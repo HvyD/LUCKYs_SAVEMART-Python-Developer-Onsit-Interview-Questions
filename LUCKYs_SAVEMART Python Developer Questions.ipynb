{
 "cells": [
  {
   "cell_type": "markdown",
   "metadata": {},
   "source": [
    "# LUCKY's/SAVEMART Python Developer Questions\n",
    "\n",
    "\n",
    "\n",
    "\n"
   ]
  },
  {
   "cell_type": "code",
   "execution_count": null,
   "metadata": {},
   "outputs": [],
   "source": [
    "#initial table\n",
    "DataBase:\n",
    "+---------------+          \n",
    "|    A  |   B   |      \n",
    "+---------------+\n",
    "| Foo1  | Bar1  | \n",
    "| Foo2  | Bar2  |  \n",
    "| Foo3  | Bar3  | \n",
    "| Foo4  | Bar4  |  \n",
    "+---------------+\n",
    "\n",
    "#After clearification\n",
    "Customers:\n",
    "+------------+------------+\n",
    "| first_name | last_name  | \n",
    "+------------+------------+\n",
    "| John       | Smith      | \n",
    "| Ava        | Muffinson  |  \n",
    "| Cailin     | Ninson     | \n",
    "| Mike       | Peterson   |   \n",
    "+------------+------------+"
   ]
  },
  {
   "cell_type": "markdown",
   "metadata": {},
   "source": [
    "#### 1. Take a SQL database and pull the data into JSON format"
   ]
  },
  {
   "cell_type": "code",
   "execution_count": null,
   "metadata": {},
   "outputs": [],
   "source": [
    "import json\n",
    "import sqlites\n",
    "\n",
    "connection = sqlite3.connect('database.db')\n",
    "cursor = connection.cursor()\n",
    "query = \"SELECT * FROM Customers\"\n",
    "result = cursor.execute(query)\n",
    "\n",
    "sqlData = []\n",
    "\n",
    "for row in result:\n",
    "    for key in cursor.description:\n",
    "        sqlData.append({key[0]: value for value in row})\n",
    "print(json.dumps({'sqlData': sqlData}))\n",
    "\n",
    "#OUTPUT should look like:\n",
    "[{\"firstname\":\"John\",\"lastname\":\"Smith\"}, {\"firstname\":\"Ava\",\"lastname\":\"Muffinson\"}, {\"firstname\":\"Cailin\",\"lastname\":\"Ninson\"}, {\"firstname\":\"Mike\",\"lastname\":\"Peterson\"}]"
   ]
  },
  {
   "cell_type": "markdown",
   "metadata": {},
   "source": [
    "#### 2. Parse form APi to JSON"
   ]
  },
  {
   "cell_type": "code",
   "execution_count": null,
   "metadata": {},
   "outputs": [],
   "source": [
    "import requests\n",
    "\n",
    "results  = requests.get(url='https://<WebsiteURLhere>?print=pretty')\n",
    "print(results.json())"
   ]
  },
  {
   "cell_type": "markdown",
   "metadata": {},
   "source": [
    "#### 3. Transfer a .CSV to JSON"
   ]
  },
  {
   "cell_type": "code",
   "execution_count": null,
   "metadata": {},
   "outputs": [],
   "source": [
    "import csv\n",
    "import json\n",
    "\n",
    "csvfile = open('file.csv', 'r')\n",
    "jsonfile = open('file.json', 'w')\n",
    "\n",
    "fieldnames = (\"FirstName\",\"LastName\")\n",
    "reader = csv.DictReader( csvfile, fieldnames)\n",
    "out = json.dumps( [ row for row in reader ] )\n",
    "jsonfile.write(out)\n",
    "\n",
    "\n",
    "# OutPut Should look like:\n",
    "[{\"firstname\":\"John\",\"lastname\":\"Smith\"}, {\"firstname\":\"Ava\",\"lastname\":\"Muffinson\"}, {\"firstname\":\"Cailin\",\"lastname\":\"Ninson\"}, {\"firstname\":\"Mike\",\"lastname\":\"Peterson\"}]"
   ]
  }
 ],
 "metadata": {
  "kernelspec": {
   "display_name": "Python 3",
   "language": "python",
   "name": "python3"
  },
  "language_info": {
   "codemirror_mode": {
    "name": "ipython",
    "version": 3
   },
   "file_extension": ".py",
   "mimetype": "text/x-python",
   "name": "python",
   "nbconvert_exporter": "python",
   "pygments_lexer": "ipython3",
   "version": "3.7.3"
  }
 },
 "nbformat": 4,
 "nbformat_minor": 2
}
